{
  "nbformat": 4,
  "nbformat_minor": 0,
  "metadata": {
    "colab": {
      "provenance": [],
      "machine_shape": "hm"
    },
    "kernelspec": {
      "name": "python3",
      "display_name": "Python 3"
    }
  },
  "cells": [
    {
      "cell_type": "code",
      "source": [
        "!pip install pytube"
      ],
      "metadata": {
        "id": "QNxcvlUXf7y-",
        "outputId": "5b48301d-4539-4ca7-c3b5-21efe9efd546",
        "colab": {
          "base_uri": "https://localhost:8080/"
        }
      },
      "execution_count": 1,
      "outputs": [
        {
          "output_type": "stream",
          "name": "stdout",
          "text": [
            "Looking in indexes: https://pypi.org/simple, https://us-python.pkg.dev/colab-wheels/public/simple/\n",
            "Collecting pytube\n",
            "  Downloading pytube-12.1.2-py3-none-any.whl (57 kB)\n",
            "\u001b[2K     \u001b[90m━━━━━━━━━━━━━━━━━━━━━━━━━━━━━━━━━━━━━━━━\u001b[0m \u001b[32m57.0/57.0 KB\u001b[0m \u001b[31m1.3 MB/s\u001b[0m eta \u001b[36m0:00:00\u001b[0m\n",
            "\u001b[?25hInstalling collected packages: pytube\n",
            "Successfully installed pytube-12.1.2\n"
          ]
        }
      ]
    },
    {
      "cell_type": "code",
      "source": [
        "import os\n",
        "import subprocess\n",
        "\n",
        "from pytube import Playlist, YouTube\n",
        "\n",
        "\n",
        "def download_playlist(playlist_url):\n",
        "    # Use the current working directory as the default directory for saving files\n",
        "    default_directory = os.getcwd()\n",
        "\n",
        "    # Create a playlist object from the provided URL\n",
        "    playlist = Playlist(playlist_url)\n",
        "\n",
        "    # Iterate over the videos in the playlist\n",
        "    for video_url in playlist.video_urls:\n",
        "        # Create a YouTube object from the video URL\n",
        "        video = YouTube(video_url)\n",
        "\n",
        "        # Select the first stream, since it will be converted to mp4 anyway\n",
        "        stream = video.streams.first()\n",
        "\n",
        "        # Get the default filename for the selected stream\n",
        "        default_filename = stream.default_filename\n",
        "        print(f\"Downloading '{default_filename}'...\")\n",
        "\n",
        "        # Download the stream to the default directory\n",
        "        stream.download(output_path=default_directory)\n",
        "\n",
        "        # Create a new filename for the downloaded file with an mp4 extension\n",
        "        new_filename = os.path.splitext(default_filename)[0] + \".mp4\"\n",
        "\n",
        "        # Convert the downloaded file to mp4 using ffmpeg\n",
        "        print(f\"Converting '{default_filename}' to mp4...\")\n",
        "        subprocess.run(['ffmpeg', '-i', \n",
        "            os.path.join(default_directory, default_filename),\n",
        "            '-f', 'mp4',\n",
        "            os.path.join(default_directory, new_filename)\n",
        "        ])\n",
        "\n",
        "    print(\"Download complete!\")\n",
        "\n",
        "\n",
        "if __name__ == \"__main__\":\n",
        "    # Prompt the user for a playlist URL\n",
        "    playlist_url = input(\"Please enter the URL of the playlist you wish to download: \")\n",
        "    download_playlist(playlist_url)\n"
      ],
      "metadata": {
        "id": "3rKjkyUReLTE",
        "outputId": "0593bb74-2f59-4f66-8fe1-c03bb4dc0f64",
        "colab": {
          "base_uri": "https://localhost:8080/"
        }
      },
      "execution_count": 5,
      "outputs": [
        {
          "output_type": "stream",
          "name": "stdout",
          "text": [
            "Please enter the url of the playlist you wish to download: https://www.youtube.com/playlist?list=PL_IuBSSUMGG0du_7vUCfVyEPGpYNQ2TKO\n",
            "Downloading 2021 -  TP Documentation Requirements & Penalties in Malaysia - In Detail.3gpp...\n",
            "Converting to mp4....\n",
            "Downloading 2021 Transfer Pricing Documentation Requirements in Malaysia.3gpp...\n",
            "Converting to mp4....\n",
            "Downloading Transfer Pricing Compliance in Malaysia 2021.3gpp...\n",
            "Converting to mp4....\n",
            "Downloading New OECD TP Guidelines What does it mean for Malaysian taxpayers.3gpp...\n",
            "Converting to mp4....\n",
            "Downloading End Of Year Transfer Pricing Adjustments for Malaysia Taxpayers.3gpp...\n",
            "Converting to mp4....\n",
            "Downloading Transfer Pricing Documentation in Singapore  What Is It And How We Can Help.3gpp...\n",
            "Converting to mp4....\n",
            "Downloading Transfer Pricing Compliance in Singapore.3gpp...\n",
            "Converting to mp4....\n",
            "Download finished.\n"
          ]
        }
      ]
    }
  ]
}